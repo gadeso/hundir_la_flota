{
 "cells": [
  {
   "cell_type": "markdown",
   "metadata": {},
   "source": [
    "### Generar barcos enemigos\n",
    "#### Función que genere el tablero enemigo y coloque sus barcos"
   ]
  },
  {
   "cell_type": "code",
   "execution_count": 38,
   "metadata": {},
   "outputs": [],
   "source": [
    "import numpy as np\n",
    "import random\n",
    "\n",
    "def generar_tablero(tablero, lista_barcos):\n",
    "    \n",
    "    for eslora in lista_barcos:\n",
    "        \n",
    "        while True:\n",
    "            \n",
    "            # 'N' - 'S' - 'E' - 'O'\n",
    "            orient = random.choice(['N', 'S', 'E', 'O'])\n",
    "\n",
    "            # Posicion inicial del barco\n",
    "            current_pos = np.random.randint(10, size = 2)\n",
    "            \n",
    "            fila = current_pos[0]\n",
    "            col = current_pos[1]\n",
    "            \n",
    "            # Recogemos las 4 posiciones colindantes a current_pos\n",
    "            coors_posiN = tablero[fila:fila - eslora:-1, col]\n",
    "            coors_posiE = tablero[fila, col: col + eslora]\n",
    "            coors_posiS = tablero[fila:fila + eslora, col]\n",
    "            coors_posiO = tablero[fila, col: col - eslora:-1]\n",
    "            \n",
    "            \n",
    "            # Comprobamos si esas posiciones son validas\n",
    "            # Orientacion Norte\n",
    "            if orient == 'N' and 0 <= fila - eslora < 10 and 'O' not in coors_posiN:\n",
    "                tablero[fila:fila - eslora:-1, col] = 'O'\n",
    "                break\n",
    "\n",
    "            # Orientacion Este\n",
    "            elif orient == 'E' and 0 <= col + eslora < 10 and 'O' not in coors_posiE:\n",
    "                tablero[fila, col: col + eslora] = 'O'\n",
    "                break\n",
    "\n",
    "            # Orientacion Sur\n",
    "            elif orient == 'S' and 0 <= fila + eslora < 10 and 'O' not in coors_posiS:\n",
    "                tablero[fila:fila + eslora, col] = 'O'\n",
    "                break\n",
    "\n",
    "            # Orientacion Oeste\n",
    "            elif orient == 'O' and 0 <= col - eslora < 10 and 'O' not in coors_posiO:\n",
    "                tablero[fila, col: col - eslora:-1] = 'O'\n",
    "                break\n",
    "\n",
    "            # No cumple con las dimensiones del tablero, o hay un barco ahi\n",
    "            # Probamos con otra coordenada\n",
    "            else:\n",
    "                continue\n",
    "    return tablero"
   ]
  },
  {
   "cell_type": "code",
   "execution_count": 39,
   "metadata": {},
   "outputs": [],
   "source": [
    "BARCOS = [1,1,1,1,2,2,2,3,3,4]\n",
    "\n",
    "tablero_jugador = np.full(fill_value = ' ', shape = (10, 10))\n",
    "tablero_pc = np.full(fill_value = ' ', shape = (10, 10))\n",
    "tablero_disparos = np.full(fill_value = ' ', shape = (10, 10))\n",
    "\n",
    "tablero = generar_tablero(tablero_jugador, BARCOS)"
   ]
  },
  {
   "cell_type": "code",
   "execution_count": 40,
   "metadata": {},
   "outputs": [],
   "source": [
    "def disparo_jugador(tablero,a,b):\n",
    "    \n",
    "    posicion = tablero[a,b]\n",
    "    \n",
    "    if posicion == \"O\":\n",
    "        vidas = vidas - 1\n",
    "        posicion = \"x\"\n",
    "    \n",
    "    else:\n",
    "        posicion = \"-\"\n",
    "    \n",
    "    return tablero, vidas"
   ]
  },
  {
   "cell_type": "code",
   "execution_count": 41,
   "metadata": {},
   "outputs": [],
   "source": [
    "def disparo_enemigo(tablero):\n",
    "    \n",
    "    a = random.choice([0,1,2,3,4,5,6,7,8,9])\n",
    "    b = random.choice([0,1,2,3,4,5,6,7,8,9])\n",
    "    print(a,b)\n",
    "    \n",
    "    posicion = tablero[a,b]\n",
    "    \n",
    "    if posicion == \"O\":\n",
    "        print(1)\n",
    "        #vidas = vidas - 1\n",
    "        posicion = \"x\"\n",
    "    \n",
    "    else:\n",
    "        print(2)\n",
    "        posicion = \"-\"\n",
    "   \n",
    "    return tablero, #vidas"
   ]
  },
  {
   "cell_type": "code",
   "execution_count": 49,
   "metadata": {},
   "outputs": [
    {
     "name": "stdout",
     "output_type": "stream",
     "text": [
      "3 4\n",
      "1\n"
     ]
    },
    {
     "data": {
      "text/plain": [
       "(array([[' ', ' ', ' ', ' ', ' ', ' ', ' ', ' ', ' ', ' '],\n",
       "        [' ', ' ', 'O', ' ', ' ', ' ', ' ', ' ', ' ', ' '],\n",
       "        [' ', ' ', ' ', ' ', ' ', ' ', ' ', ' ', ' ', ' '],\n",
       "        [' ', 'O', ' ', 'O', 'O', 'O', 'O', ' ', ' ', ' '],\n",
       "        [' ', 'O', ' ', ' ', 'O', 'O', ' ', 'O', ' ', ' '],\n",
       "        [' ', ' ', ' ', 'O', 'O', ' ', ' ', 'O', ' ', ' '],\n",
       "        [' ', ' ', ' ', 'O', 'O', 'O', ' ', 'O', ' ', ' '],\n",
       "        [' ', ' ', ' ', ' ', ' ', ' ', ' ', 'O', ' ', ' '],\n",
       "        [' ', ' ', ' ', ' ', ' ', ' ', ' ', ' ', ' ', ' '],\n",
       "        [' ', ' ', ' ', ' ', 'O', ' ', ' ', ' ', 'O', ' ']], dtype='<U1'),)"
      ]
     },
     "execution_count": 49,
     "metadata": {},
     "output_type": "execute_result"
    }
   ],
   "source": [
    "disparo_enemigo(tablero)"
   ]
  }
 ],
 "metadata": {
  "kernelspec": {
   "display_name": "Python 3",
   "language": "python",
   "name": "python3"
  },
  "language_info": {
   "codemirror_mode": {
    "name": "ipython",
    "version": 3
   },
   "file_extension": ".py",
   "mimetype": "text/x-python",
   "name": "python",
   "nbconvert_exporter": "python",
   "pygments_lexer": "ipython3",
   "version": "3.11.9"
  }
 },
 "nbformat": 4,
 "nbformat_minor": 2
}
